{
 "cells": [
  {
   "cell_type": "code",
   "execution_count": null,
   "metadata": {},
   "outputs": [],
   "source": [
    "import glob\n",
    "import os\n",
    "import pandas as pd\n",
    "from urllib.request import urlretrieve\n",
    "\n",
    "source_file_url = 'https://gitlab.com/mirsakhawathossain/pha-ml/-/raw/master/Dataset/dataset.csv'\n",
    "data_folder = '../data'\n",
    "target_file = f'{data_folder}/dataset.csv'\n",
    "\n",
    "os.makedirs(data_folder, exist_ok=True)\n",
    "\n",
    "# we have now created our data folder (which is added in .gitignore)"
   ]
  },
  {
   "cell_type": "code",
   "execution_count": null,
   "metadata": {},
   "outputs": [],
   "source": [
    "urlretrieve(source_file_url, target_file)\n",
    "\n",
    "# we have now downloaded the huge dataset\n"
   ]
  },
  {
   "cell_type": "code",
   "execution_count": null,
   "metadata": {},
   "outputs": [],
   "source": [
    "df = pd.read_csv('../data/dataset.csv', low_memory=False)\n",
    "\n",
    "chunk_size = 10000\n",
    "batch_no = 1\n",
    "for chunk in pd.read_csv('../data/dataset.csv', chunksize=chunk_size):\n",
    "    chunk.to_csv('../data/dataset_{:03}.csv'.format(batch_no), index=False)\n",
    "    batch_no += 1\n",
    "\n",
    "# we have now split the huge dataset into several chunks"
   ]
  },
  {
   "cell_type": "code",
   "execution_count": null,
   "metadata": {},
   "outputs": [],
   "source": [
    "os.remove(target_file)\n",
    "\n",
    "# deleted the huge dataset to avoid confusion"
   ]
  }
 ],
 "metadata": {
  "kernelspec": {
   "display_name": ".venv",
   "language": "python",
   "name": "python3"
  },
  "language_info": {
   "codemirror_mode": {
    "name": "ipython",
    "version": 3
   },
   "file_extension": ".py",
   "mimetype": "text/x-python",
   "name": "python",
   "nbconvert_exporter": "python",
   "pygments_lexer": "ipython3",
   "version": "3.12.2"
  }
 },
 "nbformat": 4,
 "nbformat_minor": 2
}
